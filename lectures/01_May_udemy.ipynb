{
  "nbformat": 4,
  "nbformat_minor": 0,
  "metadata": {
    "colab": {
      "name": "01-May-udemy",
      "provenance": [],
      "authorship_tag": "ABX9TyOBGCzy8oVcLXwppZrOSUFe",
      "include_colab_link": true
    },
    "kernelspec": {
      "name": "python3",
      "display_name": "Python 3"
    }
  },
  "cells": [
    {
      "cell_type": "markdown",
      "metadata": {
        "id": "view-in-github",
        "colab_type": "text"
      },
      "source": [
        "<a href=\"https://colab.research.google.com/github/Kranthi98/Udemy-python-ML/blob/master/lectures/01_May_udemy.ipynb\" target=\"_parent\"><img src=\"https://colab.research.google.com/assets/colab-badge.svg\" alt=\"Open In Colab\"/></a>"
      ]
    },
    {
      "cell_type": "markdown",
      "metadata": {
        "id": "j7tzeg7KBpU3",
        "colab_type": "text"
      },
      "source": [
        "#Logistic regression\n"
      ]
    },
    {
      "cell_type": "code",
      "metadata": {
        "id": "RDyIFezFBxGu",
        "colab_type": "code",
        "colab": {}
      },
      "source": [
        ""
      ],
      "execution_count": 0,
      "outputs": []
    }
  ]
}