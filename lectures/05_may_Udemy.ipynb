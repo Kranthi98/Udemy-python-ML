{
  "nbformat": 4,
  "nbformat_minor": 0,
  "metadata": {
    "colab": {
      "name": "05-may-Udemy",
      "provenance": [],
      "collapsed_sections": [],
      "authorship_tag": "ABX9TyOLCTQxkucuRvs1F/KKwgkG",
      "include_colab_link": true
    },
    "kernelspec": {
      "name": "python3",
      "display_name": "Python 3"
    }
  },
  "cells": [
    {
      "cell_type": "markdown",
      "metadata": {
        "id": "view-in-github",
        "colab_type": "text"
      },
      "source": [
        "<a href=\"https://colab.research.google.com/github/Kranthi98/Udemy-python-ML/blob/master/lectures/05_may_Udemy.ipynb\" target=\"_parent\"><img src=\"https://colab.research.google.com/assets/colab-badge.svg\" alt=\"Open In Colab\"/></a>"
      ]
    },
    {
      "cell_type": "markdown",
      "metadata": {
        "id": "a-f7uSvjq0Pf",
        "colab_type": "text"
      },
      "source": [
        "##Assignment\n",
        "####Train a basic tensorflow model and note down how the no of units and activation functions affecting the model performance"
      ]
    },
    {
      "cell_type": "code",
      "metadata": {
        "id": "1j4c7ZF8q3W4",
        "colab_type": "code",
        "colab": {}
      },
      "source": [
        "%tensorflow_version 2.x"
      ],
      "execution_count": 0,
      "outputs": []
    },
    {
      "cell_type": "markdown",
      "metadata": {
        "id": "te-PHfMpt-Z8",
        "colab_type": "text"
      },
      "source": [
        "#####We will download all the models and layers etc required"
      ]
    },
    {
      "cell_type": "code",
      "metadata": {
        "id": "q1uG-x6WrHXQ",
        "colab_type": "code",
        "colab": {}
      },
      "source": [
        "from tensorflow.keras.models import Sequential\n",
        "from tensorflow.keras.layers import Dense,Activation\n",
        "from tensorflow.keras.optimizers import Adam\n",
        "from tensorflow.keras.models import model_from_json\n",
        "from matplotlib import pyplot as plt\n",
        "import numpy as np"
      ],
      "execution_count": 0,
      "outputs": []
    },
    {
      "cell_type": "code",
      "metadata": {
        "id": "XuK6P-24t6F3",
        "colab_type": "code",
        "colab": {}
      },
      "source": [
        "def function(x):\n",
        "    return 10*x**2 - 5*x - 0.5"
      ],
      "execution_count": 0,
      "outputs": []
    },
    {
      "cell_type": "code",
      "metadata": {
        "id": "34ukz8GRt6Xv",
        "colab_type": "code",
        "colab": {}
      },
      "source": [
        "x_train = np.random.rand(10000)\n",
        "y_train = function(x_train)\n",
        "\n",
        "x_test = np.linspace(0, 1, 100)\n",
        "y_test = function(x_test)"
      ],
      "execution_count": 0,
      "outputs": []
    },
    {
      "cell_type": "code",
      "metadata": {
        "id": "CcDuB9MXuNvA",
        "colab_type": "code",
        "outputId": "70f49357-dbd8-4764-c3b8-1bb21d015c01",
        "colab": {
          "base_uri": "https://localhost:8080/",
          "height": 278
        }
      },
      "source": [
        "plt.scatter(x_train, y_train, label='Train', color='blue')\n",
        "plt.plot(x_test, y_test, label='Test', color='red')\n",
        "plt.ylabel('y')\n",
        "plt.xlabel('x')\n",
        "plt.legend(loc='best')\n",
        "plt.show()"
      ],
      "execution_count": 0,
      "outputs": [
        {
          "output_type": "display_data",
          "data": {
            "image/png": "[encoded data removed]",
            "text/plain": [
              "<Figure size 432x288 with 1 Axes>"
            ]
          },
          "metadata": {
            "tags": [],
            "needs_background": "light"
          }
        }
      ]
    },
    {
      "cell_type": "markdown",
      "metadata": {
        "id": "uw2s4DVGua50",
        "colab_type": "text"
      },
      "source": [
        "####Making the model"
      ]
    },
    {
      "cell_type": "code",
      "metadata": {
        "id": "kxS4x4BtuaAo",
        "colab_type": "code",
        "colab": {}
      },
      "source": [
        "#WE have to define the model first\n",
        "model = Sequential()\n",
        "model.add(Dense(units = 200,input_dim = 1,activation=\"relu\"))\n",
        "model.add(Dense(units = 20,activation=\"relu\"))\n",
        "model.add(Dense(units = 1,activation=\"linear\"))"
      ],
      "execution_count": 0,
      "outputs": []
    },
    {
      "cell_type": "code",
      "metadata": {
        "id": "ek7_JY7Gv5b2",
        "colab_type": "code",
        "colab": {}
      },
      "source": [
        "model.compile(optimizer=\"adam\",loss=\"mean_squared_error\")"
      ],
      "execution_count": 0,
      "outputs": []
    },
    {
      "cell_type": "code",
      "metadata": {
        "id": "QvDYzUBCvfmK",
        "colab_type": "code",
        "outputId": "e0db0c5a-78c3-4174-eb1d-a81ae919e66c",
        "colab": {
          "base_uri": "https://localhost:8080/",
          "height": 342
        }
      },
      "source": [
        "model = model.fit(x_train,y_train,batch_size=50,epochs=10,verbose=1,validation_data=(x_test,y_test))"
      ],
      "execution_count": 0,
      "outputs": [
        {
          "output_type": "stream",
          "text": [
            "Epoch 1/10\n",
            "200/200 [==============================] - 0s 2ms/step - loss: 1.2118 - val_loss: 0.0811\n",
            "Epoch 2/10\n",
            "200/200 [==============================] - 0s 1ms/step - loss: 0.0265 - val_loss: 0.0110\n",
            "Epoch 3/10\n",
            "200/200 [==============================] - 0s 1ms/step - loss: 0.0065 - val_loss: 0.0050\n",
            "Epoch 4/10\n",
            "200/200 [==============================] - 0s 1ms/step - loss: 0.0036 - val_loss: 0.0032\n",
            "Epoch 5/10\n",
            "200/200 [==============================] - 0s 1ms/step - loss: 0.0023 - val_loss: 0.0020\n",
            "Epoch 6/10\n",
            "200/200 [==============================] - 0s 1ms/step - loss: 0.0014 - val_loss: 0.0013\n",
            "Epoch 7/10\n",
            "200/200 [==============================] - 0s 1ms/step - loss: 9.0489e-04 - val_loss: 8.1405e-04\n",
            "Epoch 8/10\n",
            "200/200 [==============================] - 0s 1ms/step - loss: 5.6418e-04 - val_loss: 5.2778e-04\n",
            "Epoch 9/10\n",
            "200/200 [==============================] - 0s 1ms/step - loss: 3.6333e-04 - val_loss: 3.5779e-04\n",
            "Epoch 10/10\n",
            "200/200 [==============================] - 0s 1ms/step - loss: 2.3901e-04 - val_loss: 2.4427e-04\n"
          ],
          "name": "stdout"
        }
      ]
    },
    {
      "cell_type": "code",
      "metadata": {
        "id": "FiDk5KpowqRE",
        "colab_type": "code",
        "outputId": "8f46200e-4193-4226-c8b6-3e1c117d20be",
        "colab": {
          "base_uri": "https://localhost:8080/",
          "height": 342
        }
      },
      "source": [
        "model_history.history"
      ],
      "execution_count": 0,
      "outputs": [
        {
          "output_type": "execute_result",
          "data": {
            "text/plain": [
              "{'loss': [1.2118005752563477,\n",
              "  0.02651258185505867,\n",
              "  0.0065438286401331425,\n",
              "  0.003623089287430048,\n",
              "  0.002262861467897892,\n",
              "  0.001427294802851975,\n",
              "  0.0009048942592926323,\n",
              "  0.0005641829920932651,\n",
              "  0.00036333102616481483,\n",
              "  0.00023900991072878242],\n",
              " 'val_loss': [0.08105790615081787,\n",
              "  0.011004164814949036,\n",
              "  0.005047075916081667,\n",
              "  0.0031802128069102764,\n",
              "  0.0020495466887950897,\n",
              "  0.0012679133797064424,\n",
              "  0.0008140496793203056,\n",
              "  0.000527784286532551,\n",
              "  0.00035779012250714004,\n",
              "  0.000244271126575768]}"
            ]
          },
          "metadata": {
            "tags": []
          },
          "execution_count": 35
        }
      ]
    },
    {
      "cell_type": "code",
      "metadata": {
        "id": "ZlsYp93jw14J",
        "colab_type": "code",
        "outputId": "6b89c6d2-4ef7-41ec-8450-47a4214c3b34",
        "colab": {
          "base_uri": "https://localhost:8080/",
          "height": 265
        }
      },
      "source": [
        "x = np.array([1,2,3,4,5,6,7,8,9,10])\n",
        "plt.plot(model_history.history[\"loss\"],color = \"blue\")\n",
        "plt.plot(model_history.history[\"val_loss\"],color = \"red\")\n",
        "plt.legend([\"train\",\"test\"],loc = \"upper right\")\n",
        "plt.show()"
      ],
      "execution_count": 0,
      "outputs": [
        {
          "output_type": "display_data",
          "data": {
            "image/png": "[encoded data removed]",
            "text/plain": [
              "<Figure size 432x288 with 1 Axes>"
            ]
          },
          "metadata": {
            "tags": [],
            "needs_background": "light"
          }
        }
      ]
    },
    {
      "cell_type": "code",
      "metadata": {
        "id": "JNlUMkTy0FIb",
        "colab_type": "code",
        "colab": {}
      },
      "source": [
        "predictions = model.predict(x_test)"
      ],
      "execution_count": 0,
      "outputs": []
    },
    {
      "cell_type": "code",
      "metadata": {
        "id": "fXw90ogG0hKP",
        "colab_type": "code",
        "outputId": "295da2c3-f2c0-49b4-bf29-b5c15cc6d92b",
        "colab": {
          "base_uri": "https://localhost:8080/",
          "height": 265
        }
      },
      "source": [
        "plt.plot(predictions,color = \"red\")\n",
        "plt.plot(y_test,color = \"blue\")\n",
        "plt.show()"
      ],
      "execution_count": 0,
      "outputs": [
        {
          "output_type": "display_data",
          "data": {
            "image/png": "[encoded data removed]",
            "text/plain": [
              "<Figure size 432x288 with 1 Axes>"
            ]
          },
          "metadata": {
            "tags": [],
            "needs_background": "light"
          }
        }
      ]
    },
    {
      "cell_type": "markdown",
      "metadata": {
        "id": "tQs7QTyH4s6-",
        "colab_type": "text"
      },
      "source": [
        "##### WE will use the sigmoid activation"
      ]
    },
    {
      "cell_type": "code",
      "metadata": {
        "id": "uXprsqwT40Tj",
        "colab_type": "code",
        "colab": {}
      },
      "source": [
        "model = Sequential()\n",
        "model.add(Dense(units = 200,input_dim = 1,activation=\"relu\"))\n",
        "model.add(Dense(units = 20,activation=\"sigmoid\"))\n",
        "model.add(Dense(units = 1,activation=\"linear\"))"
      ],
      "execution_count": 0,
      "outputs": []
    },
    {
      "cell_type": "code",
      "metadata": {
        "id": "RDWUSXvf5EDG",
        "colab_type": "code",
        "colab": {}
      },
      "source": [
        "model.compile(optimizer=\"adam\",loss=\"mean_squared_error\")"
      ],
      "execution_count": 0,
      "outputs": []
    },
    {
      "cell_type": "code",
      "metadata": {
        "id": "3DYoP91c5FUH",
        "colab_type": "code",
        "outputId": "23e0b811-be6e-4244-d0cd-1ebf7d7f285d",
        "colab": {
          "base_uri": "https://localhost:8080/",
          "height": 342
        }
      },
      "source": [
        "model2 = model.fit(x_train,y_train,batch_size=50,epochs=10,verbose=1,validation_data=(x_test,y_test))"
      ],
      "execution_count": 0,
      "outputs": [
        {
          "output_type": "stream",
          "text": [
            "Epoch 1/10\n",
            "200/200 [==============================] - 0s 1ms/step - loss: 1.6171 - val_loss: 0.6519\n",
            "Epoch 2/10\n",
            "200/200 [==============================] - 0s 1ms/step - loss: 0.2977 - val_loss: 0.1418\n",
            "Epoch 3/10\n",
            "200/200 [==============================] - 0s 1ms/step - loss: 0.0805 - val_loss: 0.0537\n",
            "Epoch 4/10\n",
            "200/200 [==============================] - 0s 1ms/step - loss: 0.0361 - val_loss: 0.0300\n",
            "Epoch 5/10\n",
            "200/200 [==============================] - 0s 1ms/step - loss: 0.0225 - val_loss: 0.0219\n",
            "Epoch 6/10\n",
            "200/200 [==============================] - 0s 1ms/step - loss: 0.0172 - val_loss: 0.0174\n",
            "Epoch 7/10\n",
            "200/200 [==============================] - 0s 1ms/step - loss: 0.0148 - val_loss: 0.0153\n",
            "Epoch 8/10\n",
            "200/200 [==============================] - 0s 1ms/step - loss: 0.0135 - val_loss: 0.0143\n",
            "Epoch 9/10\n",
            "200/200 [==============================] - 0s 1ms/step - loss: 0.0127 - val_loss: 0.0136\n",
            "Epoch 10/10\n",
            "200/200 [==============================] - 0s 1ms/step - loss: 0.0123 - val_loss: 0.0133\n"
          ],
          "name": "stdout"
        }
      ]
    },
    {
      "cell_type": "code",
      "metadata": {
        "id": "AVJGRpZD5PGz",
        "colab_type": "code",
        "outputId": "f8177d3a-883f-4138-c55f-a6a0083faba2",
        "colab": {
          "base_uri": "https://localhost:8080/",
          "height": 265
        }
      },
      "source": [
        "plt.plot(model2.history[\"loss\"],color = \"red\")\n",
        "plt.plot(model_history.history[\"loss\"],color = \"blue\")\n",
        "plt.show()"
      ],
      "execution_count": 0,
      "outputs": [
        {
          "output_type": "display_data",
          "data": {
            "image/png": "[encoded data removed]",
            "text/plain": [
              "<Figure size 432x288 with 1 Axes>"
            ]
          },
          "metadata": {
            "tags": [],
            "needs_background": "light"
          }
        }
      ]
    },
    {
      "cell_type": "code",
      "metadata": {
        "id": "P21TZTYR5-F0",
        "colab_type": "code",
        "outputId": "0132f241-0023-430b-f5ea-00f1bce9d0f3",
        "colab": {
          "base_uri": "https://localhost:8080/",
          "height": 342
        }
      },
      "source": [
        "model = Sequential()\n",
        "model.add(Dense(units = 200,input_dim = 1,activation=\"relu\"))\n",
        "model.add(Dense(units = 20,activation=\"relu\"))\n",
        "model.add(Dense(units = 1,activation=\"linear\"))\n",
        "model.compile(optimizer=\"adam\",loss=\"mean_squared_error\")\n",
        "model3 = model.fit(x_train,y_train,batch_size=50,epochs=10,verbose=1,validation_data=(x_test,y_test))"
      ],
      "execution_count": 0,
      "outputs": [
        {
          "output_type": "stream",
          "text": [
            "Epoch 1/10\n",
            "200/200 [==============================] - 0s 1ms/step - loss: 1.1605 - val_loss: 0.0819\n",
            "Epoch 2/10\n",
            "200/200 [==============================] - 0s 1ms/step - loss: 0.0264 - val_loss: 0.0111\n",
            "Epoch 3/10\n",
            "200/200 [==============================] - 0s 1ms/step - loss: 0.0065 - val_loss: 0.0051\n",
            "Epoch 4/10\n",
            "200/200 [==============================] - 0s 1ms/step - loss: 0.0036 - val_loss: 0.0031\n",
            "Epoch 5/10\n",
            "200/200 [==============================] - 0s 1ms/step - loss: 0.0022 - val_loss: 0.0019\n",
            "Epoch 6/10\n",
            "200/200 [==============================] - 0s 1ms/step - loss: 0.0013 - val_loss: 0.0011\n",
            "Epoch 7/10\n",
            "200/200 [==============================] - 0s 1ms/step - loss: 7.8705e-04 - val_loss: 7.0002e-04\n",
            "Epoch 8/10\n",
            "200/200 [==============================] - 0s 1ms/step - loss: 4.7933e-04 - val_loss: 4.6226e-04\n",
            "Epoch 9/10\n",
            "200/200 [==============================] - 0s 1ms/step - loss: 3.0075e-04 - val_loss: 3.1919e-04\n",
            "Epoch 10/10\n",
            "200/200 [==============================] - 0s 1ms/step - loss: 1.9495e-04 - val_loss: 2.0145e-04\n"
          ],
          "name": "stdout"
        }
      ]
    },
    {
      "cell_type": "code",
      "metadata": {
        "id": "NECpN5uD6FuF",
        "colab_type": "code",
        "outputId": "32619151-e43d-4219-c9f3-b43a7caca71a",
        "colab": {
          "base_uri": "https://localhost:8080/",
          "height": 265
        }
      },
      "source": [
        "plt.plot(model2.history[\"loss\"],color = \"red\")\n",
        "plt.plot(model_history.history[\"loss\"],color = \"blue\")\n",
        "plt.plot(model3.history[\"loss\"],color = \"black\")\n",
        "plt.legend([\"sigmoid\",\"relu\",\"tanh\"],loc = \"upper right\")\n",
        "plt.show()"
      ],
      "execution_count": 0,
      "outputs": [
        {
          "output_type": "display_data",
          "data": {
            "image/png": "[encoded data removed]",
            "text/plain": [
              "<Figure size 432x288 with 1 Axes>"
            ]
          },
          "metadata": {
            "tags": [],
            "needs_background": "light"
          }
        }
      ]
    },
    {
      "cell_type": "markdown",
      "metadata": {
        "id": "CJSMvN7T9F_5",
        "colab_type": "text"
      },
      "source": [
        "####we will now change the units and observe how our model behaves"
      ]
    },
    {
      "cell_type": "code",
      "metadata": {
        "id": "ajQMFAAb9AQR",
        "colab_type": "code",
        "outputId": "ac42f96d-79b8-4344-b251-e1c2d3c0af68",
        "colab": {
          "base_uri": "https://localhost:8080/",
          "height": 342
        }
      },
      "source": [
        "model = Sequential()\n",
        "model.add(Dense(units = 200,input_dim = 1,activation=\"relu\"))\n",
        "model.add(Dense(units = 40,activation=\"relu\"))\n",
        "model.add(Dense(units = 1,activation=\"linear\"))\n",
        "model.compile(optimizer=\"adam\",loss=\"mean_squared_error\")\n",
        "modelx = model.fit(x_train,y_train,batch_size=50,epochs=10,verbose=1,validation_data=(x_test,y_test))"
      ],
      "execution_count": 0,
      "outputs": [
        {
          "output_type": "stream",
          "text": [
            "Epoch 1/10\n",
            "200/200 [==============================] - 0s 1ms/step - loss: 0.6678 - val_loss: 0.0201\n",
            "Epoch 2/10\n",
            "200/200 [==============================] - 0s 1ms/step - loss: 0.0095 - val_loss: 0.0064\n",
            "Epoch 3/10\n",
            "200/200 [==============================] - 0s 1ms/step - loss: 0.0046 - val_loss: 0.0041\n",
            "Epoch 4/10\n",
            "200/200 [==============================] - 0s 1ms/step - loss: 0.0024 - val_loss: 0.0013\n",
            "Epoch 5/10\n",
            "200/200 [==============================] - 0s 1ms/step - loss: 5.5529e-04 - val_loss: 4.2400e-04\n",
            "Epoch 6/10\n",
            "200/200 [==============================] - 0s 1ms/step - loss: 1.8237e-04 - val_loss: 1.5854e-04\n",
            "Epoch 7/10\n",
            "200/200 [==============================] - 0s 1ms/step - loss: 9.1127e-05 - val_loss: 8.4340e-05\n",
            "Epoch 8/10\n",
            "200/200 [==============================] - 0s 1ms/step - loss: 6.0404e-05 - val_loss: 6.1075e-05\n",
            "Epoch 9/10\n",
            "200/200 [==============================] - 0s 1ms/step - loss: 4.3696e-05 - val_loss: 4.7012e-05\n",
            "Epoch 10/10\n",
            "200/200 [==============================] - 0s 1ms/step - loss: 3.4387e-05 - val_loss: 3.7525e-05\n"
          ],
          "name": "stdout"
        }
      ]
    },
    {
      "cell_type": "code",
      "metadata": {
        "id": "EkZBncHJCFUQ",
        "colab_type": "code",
        "outputId": "94205ebd-6871-4c95-db54-bc1bfb57f910",
        "colab": {
          "base_uri": "https://localhost:8080/",
          "height": 265
        }
      },
      "source": [
        "plt.plot(model_history.history[\"loss\"],color = \"red\")\n",
        "plt.plot(modelx.history['loss'],color = \"blue\")\n",
        "plt.show()"
      ],
      "execution_count": 0,
      "outputs": [
        {
          "output_type": "display_data",
          "data": {
            "image/png": "[encoded data removed]",
            "text/plain": [
              "<Figure size 432x288 with 1 Axes>"
            ]
          },
          "metadata": {
            "tags": [],
            "needs_background": "light"
          }
        }
      ]
    },
    {
      "cell_type": "code",
      "metadata": {
        "id": "E6ZKWIeZCbyn",
        "colab_type": "code",
        "outputId": "1d9ce4f4-02c1-4019-99cd-d49f969155ef",
        "colab": {
          "base_uri": "https://localhost:8080/",
          "height": 342
        }
      },
      "source": [
        "model = Sequential()\n",
        "model.add(Dense(units = 200,input_dim = 1,activation=\"relu\"))\n",
        "model.add(Dense(units = 60,activation=\"relu\"))\n",
        "model.add(Dense(units = 1,activation=\"linear\"))\n",
        "model.compile(optimizer=\"adam\",loss=\"mean_squared_error\")\n",
        "modely = model.fit(x_train,y_train,batch_size=50,epochs=10,verbose=1,validation_data=(x_test,y_test))"
      ],
      "execution_count": 0,
      "outputs": [
        {
          "output_type": "stream",
          "text": [
            "Epoch 1/10\n",
            "200/200 [==============================] - 0s 1ms/step - loss: 0.6403 - val_loss: 0.0238\n",
            "Epoch 2/10\n",
            "200/200 [==============================] - 0s 1ms/step - loss: 0.0116 - val_loss: 0.0079\n",
            "Epoch 3/10\n",
            "200/200 [==============================] - 0s 1ms/step - loss: 0.0059 - val_loss: 0.0050\n",
            "Epoch 4/10\n",
            "200/200 [==============================] - 0s 1ms/step - loss: 0.0037 - val_loss: 0.0033\n",
            "Epoch 5/10\n",
            "200/200 [==============================] - 0s 1ms/step - loss: 0.0023 - val_loss: 0.0020\n",
            "Epoch 6/10\n",
            "200/200 [==============================] - 0s 1ms/step - loss: 0.0014 - val_loss: 0.0012\n",
            "Epoch 7/10\n",
            "200/200 [==============================] - 0s 1ms/step - loss: 7.7025e-04 - val_loss: 4.6353e-04\n",
            "Epoch 8/10\n",
            "200/200 [==============================] - 0s 1ms/step - loss: 1.6287e-04 - val_loss: 8.1056e-05\n",
            "Epoch 9/10\n",
            "200/200 [==============================] - 0s 1ms/step - loss: 5.1320e-05 - val_loss: 4.0794e-05\n",
            "Epoch 10/10\n",
            "200/200 [==============================] - 0s 1ms/step - loss: 2.7112e-05 - val_loss: 2.9434e-05\n"
          ],
          "name": "stdout"
        }
      ]
    },
    {
      "cell_type": "code",
      "metadata": {
        "id": "pDiTgCYeCgta",
        "colab_type": "code",
        "outputId": "70aac565-6fec-41c2-81f2-9fc4dcb8f781",
        "colab": {
          "base_uri": "https://localhost:8080/",
          "height": 265
        }
      },
      "source": [
        "\n",
        "plt.plot(model_history.history[\"loss\"],color = \"red\")\n",
        "plt.plot(modelx.history['loss'],color = \"blue\")\n",
        "plt.plot(modely.history['loss'],color = \"black\")\n",
        "plt.legend([\"20\",\"40\",\"60\"],loc = \"upper right\")\n",
        "plt.show()"
      ],
      "execution_count": 0,
      "outputs": [
        {
          "output_type": "display_data",
          "data": {
            "image/png": "[encoded data removed]",
            "text/plain": [
              "<Figure size 432x288 with 1 Axes>"
            ]
          },
          "metadata": {
            "tags": [],
            "needs_background": "light"
          }
        }
      ]
    },
    {
      "cell_type": "markdown",
      "metadata": {
        "id": "pBnFJ7RdMl5p",
        "colab_type": "text"
      },
      "source": [
        "#Loss Function\n",
        "####Loss function calculates the difference between the expected and actual function..and using the back propogation adjusts the weights and biases\n",
        "##Types of loss functions\n",
        "####-Sparse categorical cross entropy\n",
        "##### **used for classification type problems,where output is one hot encoded\n",
        "####-Mean squared error\n",
        "##### **used for regression cases\n",
        "####-Other variations"
      ]
    },
    {
      "cell_type": "code",
      "metadata": {
        "id": "dEHRiaDCMobp",
        "colab_type": "code",
        "colab": {}
      },
      "source": [
        "model.compile(loss = \"mean_squared_error\")\n",
        "or\n",
        "model.compile(loss = \"sparse_categorical_crossentropy\")"
      ],
      "execution_count": 0,
      "outputs": []
    },
    {
      "cell_type": "markdown",
      "metadata": {
        "id": "sY72d2bKO_qS",
        "colab_type": "text"
      },
      "source": [
        "#Optimisers\n",
        "####Algorithms used for training.Back propogation adjusts the weights and biases\n",
        "###Types of optimisers\n",
        "####-stochastic gradient descent\n",
        "#####**traditional optimiser\n",
        "####-ADAM or adaptive moment estimation\n",
        "#####**most efficient \n",
        "####-other optimisers\n",
        "#####**adadelta,RMSProp\n",
        "\n"
      ]
    },
    {
      "cell_type": "code",
      "metadata": {
        "id": "wCzg4z6yQLJO",
        "colab_type": "code",
        "colab": {}
      },
      "source": [
        "model.compile(loss = \"\",optimizer=\"adam\" or \"sgd\")"
      ],
      "execution_count": 0,
      "outputs": []
    },
    {
      "cell_type": "code",
      "metadata": {
        "id": "w25eYU80QXWc",
        "colab_type": "code",
        "outputId": "7973b177-56a2-4743-ec65-35bd5a86f930",
        "colab": {
          "base_uri": "https://localhost:8080/",
          "height": 342
        }
      },
      "source": [
        "model = Sequential()\n",
        "model.add(Dense(units = 200,input_dim = 1,activation=\"relu\"))\n",
        "model.add(Dense(units = 20,activation=\"relu\"))\n",
        "model.add(Dense(units = 1,activation=\"linear\"))\n",
        "model.compile(optimizer=\"adam\",loss=\"mean_squared_error\")\n",
        "model3 = model.fit(x_train,y_train,batch_size=50,epochs=10,verbose=1,validation_data=(x_test,y_test))\n",
        "pred3 = model.predict(x_test)"
      ],
      "execution_count": 0,
      "outputs": [
        {
          "output_type": "stream",
          "text": [
            "Epoch 1/10\n",
            "200/200 [==============================] - 0s 1ms/step - loss: 2.3771 - val_loss: 2.0687\n",
            "Epoch 2/10\n",
            "200/200 [==============================] - 0s 1ms/step - loss: 0.7918 - val_loss: 0.0286\n",
            "Epoch 3/10\n",
            "200/200 [==============================] - 0s 1ms/step - loss: 0.0118 - val_loss: 0.0063\n",
            "Epoch 4/10\n",
            "200/200 [==============================] - 0s 1ms/step - loss: 0.0040 - val_loss: 0.0031\n",
            "Epoch 5/10\n",
            "200/200 [==============================] - 0s 1ms/step - loss: 0.0020 - val_loss: 0.0016\n",
            "Epoch 6/10\n",
            "200/200 [==============================] - 0s 1ms/step - loss: 0.0011 - val_loss: 9.4652e-04\n",
            "Epoch 7/10\n",
            "200/200 [==============================] - 0s 1ms/step - loss: 6.7651e-04 - val_loss: 6.0188e-04\n",
            "Epoch 8/10\n",
            "200/200 [==============================] - 0s 1ms/step - loss: 4.3126e-04 - val_loss: 4.3929e-04\n",
            "Epoch 9/10\n",
            "200/200 [==============================] - 0s 1ms/step - loss: 2.9905e-04 - val_loss: 2.7892e-04\n",
            "Epoch 10/10\n",
            "200/200 [==============================] - 0s 1ms/step - loss: 2.1037e-04 - val_loss: 1.9998e-04\n"
          ],
          "name": "stdout"
        }
      ]
    },
    {
      "cell_type": "code",
      "metadata": {
        "id": "4AqbdEK0S3aZ",
        "colab_type": "code",
        "outputId": "517e7930-d362-402c-d2c8-4cf819b3c499",
        "colab": {
          "base_uri": "https://localhost:8080/",
          "height": 342
        }
      },
      "source": [
        "model = Sequential()\n",
        "model.add(Dense(units = 200,input_dim = 1,activation=\"relu\"))\n",
        "model.add(Dense(units = 60,activation=\"relu\"))\n",
        "model.add(Dense(units = 1,activation=\"linear\"))\n",
        "model.compile(optimizer=\"SGD\",loss=\"mean_squared_error\")\n",
        "model1 = model.fit(x_train,y_train,batch_size=50,epochs=10,verbose=1,validation_data=(x_test,y_test))\n",
        "pred1 = model.predict(x_test)"
      ],
      "execution_count": 0,
      "outputs": [
        {
          "output_type": "stream",
          "text": [
            "Epoch 1/10\n",
            "200/200 [==============================] - 0s 1ms/step - loss: 1.5006 - val_loss: 0.3235\n",
            "Epoch 2/10\n",
            "200/200 [==============================] - 0s 1ms/step - loss: 0.1104 - val_loss: 0.0474\n",
            "Epoch 3/10\n",
            "200/200 [==============================] - 0s 1ms/step - loss: 0.0322 - val_loss: 0.0258\n",
            "Epoch 4/10\n",
            "200/200 [==============================] - 0s 1ms/step - loss: 0.0199 - val_loss: 0.0177\n",
            "Epoch 5/10\n",
            "200/200 [==============================] - 0s 1ms/step - loss: 0.0145 - val_loss: 0.0137\n",
            "Epoch 6/10\n",
            "200/200 [==============================] - 0s 1ms/step - loss: 0.0117 - val_loss: 0.0117\n",
            "Epoch 7/10\n",
            "200/200 [==============================] - 0s 1ms/step - loss: 0.0102 - val_loss: 0.0106\n",
            "Epoch 8/10\n",
            "200/200 [==============================] - 0s 1ms/step - loss: 0.0094 - val_loss: 0.0098\n",
            "Epoch 9/10\n",
            "200/200 [==============================] - 0s 1ms/step - loss: 0.0088 - val_loss: 0.0092\n",
            "Epoch 10/10\n",
            "200/200 [==============================] - 0s 1ms/step - loss: 0.0083 - val_loss: 0.0088\n"
          ],
          "name": "stdout"
        }
      ]
    },
    {
      "cell_type": "code",
      "metadata": {
        "id": "E-kFQHBvS77_",
        "colab_type": "code",
        "outputId": "71864f28-ff1e-47b8-e636-8928b9172721",
        "colab": {
          "base_uri": "https://localhost:8080/",
          "height": 342
        }
      },
      "source": [
        "model = Sequential()\n",
        "model.add(Dense(units = 200,input_dim = 1,activation=\"relu\"))\n",
        "model.add(Dense(units = 60,activation=\"relu\"))\n",
        "model.add(Dense(units = 1,activation=\"linear\"))\n",
        "model.compile(optimizer=\"RMSProp\",loss=\"mean_squared_error\")\n",
        "model2 = model.fit(x_train,y_train,batch_size=50,epochs=10,verbose=1,validation_data=(x_test,y_test))\n",
        "pred2 = model.predict(x_test)"
      ],
      "execution_count": 0,
      "outputs": [
        {
          "output_type": "stream",
          "text": [
            "Epoch 1/10\n",
            "200/200 [==============================] - 0s 1ms/step - loss: 0.6236 - val_loss: 0.0428\n",
            "Epoch 2/10\n",
            "200/200 [==============================] - 0s 1ms/step - loss: 0.0119 - val_loss: 0.0354\n",
            "Epoch 3/10\n",
            "200/200 [==============================] - 0s 1ms/step - loss: 0.0084 - val_loss: 0.0127\n",
            "Epoch 4/10\n",
            "200/200 [==============================] - 0s 1ms/step - loss: 0.0063 - val_loss: 0.0022\n",
            "Epoch 5/10\n",
            "200/200 [==============================] - 0s 1ms/step - loss: 0.0052 - val_loss: 9.1198e-04\n",
            "Epoch 6/10\n",
            "200/200 [==============================] - 0s 1ms/step - loss: 0.0050 - val_loss: 0.0067\n",
            "Epoch 7/10\n",
            "200/200 [==============================] - 1s 3ms/step - loss: 0.0049 - val_loss: 1.9468e-04\n",
            "Epoch 8/10\n",
            "200/200 [==============================] - 0s 1ms/step - loss: 0.0045 - val_loss: 1.2925e-04\n",
            "Epoch 9/10\n",
            "200/200 [==============================] - 0s 1ms/step - loss: 0.0046 - val_loss: 0.0041\n",
            "Epoch 10/10\n",
            "200/200 [==============================] - 0s 1ms/step - loss: 0.0043 - val_loss: 0.0096\n"
          ],
          "name": "stdout"
        }
      ]
    },
    {
      "cell_type": "code",
      "metadata": {
        "id": "Akju7oa7S_4l",
        "colab_type": "code",
        "outputId": "2a316368-b1fe-43a6-8b9e-50b1f62f1293",
        "colab": {
          "base_uri": "https://localhost:8080/",
          "height": 265
        }
      },
      "source": [
        "plt.plot(model3.history[\"loss\"],color = \"red\")\n",
        "plt.plot(model1.history[\"loss\"],color = \"blue\")\n",
        "plt.plot(model2.history[\"loss\"],color = \"black\")\n",
        "plt.legend([\"adam\",\"SGD\",\"RMSProp\"],loc = \"upper right\")\n",
        "plt.show()\n"
      ],
      "execution_count": 0,
      "outputs": [
        {
          "output_type": "display_data",
          "data": {
            "image/png": "[encoded data removed]",
            "text/plain": [
              "<Figure size 432x288 with 1 Axes>"
            ]
          },
          "metadata": {
            "tags": [],
            "needs_background": "light"
          }
        }
      ]
    },
    {
      "cell_type": "code",
      "metadata": {
        "id": "un9lglQoUG0s",
        "colab_type": "code",
        "outputId": "1d34d499-ebfd-4caf-be7e-532f3dc80754",
        "colab": {
          "base_uri": "https://localhost:8080/",
          "height": 265
        }
      },
      "source": [
        "plt.plot(y_test,color = \"red\")\n",
        "plt.plot(pred1,color = \"blue\")\n",
        "plt.show()"
      ],
      "execution_count": 0,
      "outputs": [
        {
          "output_type": "display_data",
          "data": {
            "image/png": "[encoded data removed]",
            "text/plain": [
              "<Figure size 432x288 with 1 Axes>"
            ]
          },
          "metadata": {
            "tags": [],
            "needs_background": "light"
          }
        }
      ]
    },
    {
      "cell_type": "code",
      "metadata": {
        "id": "CLrXDGc3V37i",
        "colab_type": "code",
        "outputId": "b81557fd-246d-452b-b83a-d15f33568ed1",
        "colab": {
          "base_uri": "https://localhost:8080/",
          "height": 293
        }
      },
      "source": [
        "fig = plt.figure()\n",
        "plt.subplot(3,1,1)\n",
        "plt.plot(pred3,color = \"red\")\n",
        "plt.plot(y_test,color = \"blue\")\n",
        "plt.legend([\"adam\",\"actual\"],loc = \"upper left\")\n",
        "\n",
        "\n",
        "plt.subplot(3,1,2)\n",
        "plt.plot(pred1,color = \"red\")\n",
        "plt.plot(y_test,color = \"blue\")\n",
        "plt.legend([\"SGD\",\"actual\"],loc = \"upper left\")\n",
        "\n",
        "plt.subplot(3,1,3)\n",
        "plt.plot(pred2,color = \"red\")\n",
        "plt.plot(y_test,color = \"blue\")\n",
        "plt.legend([\"RMSProp\",\"actual\"],loc = \"upper left\")\n",
        "\n",
        "plt.suptitle(\"variation of predn w.r.t to actual\")\n",
        "plt.show()\n"
      ],
      "execution_count": 0,
      "outputs": [
        {
          "output_type": "display_data",
          "data": {
            "image/png": "[encoded data removed]",
            "text/plain": [
              "<Figure size 432x288 with 3 Axes>"
            ]
          },
          "metadata": {
            "tags": [],
            "needs_background": "light"
          }
        }
      ]
    },
    {
      "cell_type": "markdown",
      "metadata": {
        "id": "r5yNJTPfdBAJ",
        "colab_type": "text"
      },
      "source": [
        "##Saving the model structures and weights"
      ]
    },
    {
      "cell_type": "code",
      "metadata": {
        "id": "yFQQ4C_2dGbf",
        "colab_type": "code",
        "colab": {}
      },
      "source": [
        "model_structure = model.to_json()\n",
        "with open(\"model.json\",\"w\") as json_file:\n",
        "  json_file.write(model_structure)\n",
        "model.save_weights(\"weights.h5\") \n",
        "\n"
      ],
      "execution_count": 0,
      "outputs": []
    },
    {
      "cell_type": "markdown",
      "metadata": {
        "id": "hgjUYZYwhoOY",
        "colab_type": "text"
      },
      "source": [
        "####Restoring the trained model"
      ]
    },
    {
      "cell_type": "code",
      "metadata": {
        "id": "nNpvP4BvhmfU",
        "colab_type": "code",
        "colab": {}
      },
      "source": [
        "with open(\"model.json\",\"r\")as json_file:\n",
        "  restored_model = model_from_json(json_file.read())\n",
        "restored_model.load_weights(\"weights.h5\")"
      ],
      "execution_count": 0,
      "outputs": []
    },
    {
      "cell_type": "markdown",
      "metadata": {
        "id": "ptCwEfW2kHv4",
        "colab_type": "text"
      },
      "source": [
        "##image recognition\n",
        "####We will be dealing with something called as hello world of deep learning "
      ]
    },
    {
      "cell_type": "code",
      "metadata": {
        "id": "xL6ZFtC4kK8c",
        "colab_type": "code",
        "colab": {}
      },
      "source": [
        ""
      ],
      "execution_count": 0,
      "outputs": []
    }
  ]
}