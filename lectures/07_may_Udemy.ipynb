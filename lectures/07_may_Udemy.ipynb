{
  "nbformat": 4,
  "nbformat_minor": 0,
  "metadata": {
    "colab": {
      "name": "07-may-Udemy",
      "provenance": [],
      "collapsed_sections": [],
      "toc_visible": true,
      "mount_file_id": "1bgIYGcCZRfkUH62Ook6zG_-sy3zoj3pb",
      "authorship_tag": "ABX9TyOuFWXUoIVgZbuDtdHHLC6I",
      "include_colab_link": true
    },
    "kernelspec": {
      "name": "python3",
      "display_name": "Python 3"
    },
    "accelerator": "GPU"
  },
  "cells": [
    {
      "cell_type": "markdown",
      "metadata": {
        "id": "view-in-github",
        "colab_type": "text"
      },
      "source": [
        "<a href=\"https://colab.research.google.com/github/Kranthi98/Udemy-python-ML/blob/master/lectures/07_may_Udemy.ipynb\" target=\"_parent\"><img src=\"https://colab.research.google.com/assets/colab-badge.svg\" alt=\"Open In Colab\"/></a>"
      ]
    },
    {
      "cell_type": "markdown",
      "metadata": {
        "id": "TBZayZcVD9OX",
        "colab_type": "text"
      },
      "source": [
        "##Convolutional neural layer\n",
        "##1.Convolutional layer\n",
        "####Divide the image into filters and kernels to get small details\n",
        "##2.pooling layer\n",
        "####choosing the max or avg of few pixels\n",
        "##3.dense full layer\n",
        "##Layer parameter\n",
        "####called as hyper parameters..and are determined empirically\n",
        "####1.Convolution layer : kernel size,no of filters, padding, strides, \n",
        "####2.pooling layers : pooling size"
      ]
    },
    {
      "cell_type": "code",
      "metadata": {
        "id": "WcE23r5LEDzq",
        "colab_type": "code",
        "outputId": "06080006-fcf2-46c7-e17f-6f6225d327e3",
        "colab": {
          "base_uri": "https://localhost:8080/",
          "height": 171
        }
      },
      "source": [
        "model = Sequential()"
      ],
      "execution_count": 0,
      "outputs": [
        {
          "output_type": "error",
          "ename": "NameError",
          "evalue": "ignored",
          "traceback": [
            "\u001b[0;31m---------------------------------------------------------------------------\u001b[0m",
            "\u001b[0;31mNameError\u001b[0m                                 Traceback (most recent call last)",
            "\u001b[0;32m<ipython-input-1-82ef346ff754>\u001b[0m in \u001b[0;36m<module>\u001b[0;34m()\u001b[0m\n\u001b[0;32m----> 1\u001b[0;31m \u001b[0mmodel\u001b[0m \u001b[0;34m=\u001b[0m \u001b[0mSequential\u001b[0m\u001b[0;34m(\u001b[0m\u001b[0;34m)\u001b[0m\u001b[0;34m\u001b[0m\u001b[0;34m\u001b[0m\u001b[0m\n\u001b[0m",
            "\u001b[0;31mNameError\u001b[0m: name 'Sequential' is not defined"
          ]
        }
      ]
    },
    {
      "cell_type": "markdown",
      "metadata": {
        "id": "DT_9IO7zG0fG",
        "colab_type": "text"
      },
      "source": [
        "#####dropout layer helps in regularisato=ion\n"
      ]
    },
    {
      "cell_type": "markdown",
      "metadata": {
        "id": "eMl0R5ZSG0Ul",
        "colab_type": "text"
      },
      "source": [
        ""
      ]
    },
    {
      "cell_type": "code",
      "metadata": {
        "id": "kDr7O5YWHBxv",
        "colab_type": "code",
        "outputId": "02b3e37e-176d-410a-fbaa-5ca05db8f116",
        "colab": {
          "base_uri": "https://localhost:8080/",
          "height": 34
        }
      },
      "source": [
        "#preparing the CNN model\n",
        "import keras\n",
        "from keras.datasets import mnist\n",
        "from keras.models import Sequential\n",
        "from keras.optimizers import Adam\n",
        "from keras.layers import Dense, Dropout, Flatten\n",
        "from keras.layers import Conv2D, MaxPooling2D\n",
        "from keras import backend as K\n",
        "import matplotlib.pyplot as plt\n",
        "import numpy as np\n",
        "import random"
      ],
      "execution_count": 0,
      "outputs": [
        {
          "output_type": "stream",
          "text": [
            "Using TensorFlow backend.\n"
          ],
          "name": "stderr"
        }
      ]
    },
    {
      "cell_type": "code",
      "metadata": {
        "id": "1Ig2BNsqQRne",
        "colab_type": "code",
        "colab": {}
      },
      "source": [
        "#image dimensions\n",
        "img_rows , img_cols = 28,28\n",
        "#batch size - no of training samples for a batch \n",
        "batch_size = 128\n",
        "#no of classes output as 10 diff output\n",
        "num_class = 10\n",
        "#no of times a model can be trained more the models more better it will get\n",
        "epochs = 5\n",
        "#dropout is a regularisaton parameter for reducing the over fitting\n",
        "dropout = 0.5\n"
      ],
      "execution_count": 0,
      "outputs": []
    },
    {
      "cell_type": "code",
      "metadata": {
        "id": "egfSe93ZHUd3",
        "colab_type": "code",
        "outputId": "a929e903-0edd-4b2e-ecd6-38d5b9e7e140",
        "colab": {
          "base_uri": "https://localhost:8080/",
          "height": 243
        }
      },
      "source": [
        "(x_train,y_train),(x_test,y_test) = mnist.load_data()\n",
        "orig_test = x_test\n",
        "if K.image_data_format == \"channels first\":\n",
        "  x_train = x_train.reshape(x_train.shape[0],3,img_rows,img_cols)\n",
        "  x_test = x_test.reshape(x_test.shape[0],3,img_rows,img_cols)\n",
        "  input_shape = (3,img_rows,img_cols)\n",
        "else:\n",
        "  x_train = x_train.reshape(x_train.shape[0],img_rows,img_cols,3)\n",
        "  x_test = x_test.reshape(x_test.shape[0],img_rows,img_cols,3)\n",
        "  input_shape = (img_rows,img_cols,3)\n",
        "  \n",
        "x_train,x_test = x_train/255.0 , x_test/255.0\n",
        "print(x_train.shape[0],\"train samples\")\n",
        "print(x_test.shape[0],\"test samples\")"
      ],
      "execution_count": 0,
      "outputs": [
        {
          "output_type": "error",
          "ename": "NameError",
          "evalue": "ignored",
          "traceback": [
            "\u001b[0;31m---------------------------------------------------------------------------\u001b[0m",
            "\u001b[0;31mNameError\u001b[0m                                 Traceback (most recent call last)",
            "\u001b[0;32m<ipython-input-1-8a8041f05f16>\u001b[0m in \u001b[0;36m<module>\u001b[0;34m()\u001b[0m\n\u001b[0;32m----> 1\u001b[0;31m \u001b[0;34m(\u001b[0m\u001b[0mx_train\u001b[0m\u001b[0;34m,\u001b[0m\u001b[0my_train\u001b[0m\u001b[0;34m)\u001b[0m\u001b[0;34m,\u001b[0m\u001b[0;34m(\u001b[0m\u001b[0mx_test\u001b[0m\u001b[0;34m,\u001b[0m\u001b[0my_test\u001b[0m\u001b[0;34m)\u001b[0m \u001b[0;34m=\u001b[0m \u001b[0mmnist\u001b[0m\u001b[0;34m.\u001b[0m\u001b[0mload_data\u001b[0m\u001b[0;34m(\u001b[0m\u001b[0;34m)\u001b[0m\u001b[0;34m\u001b[0m\u001b[0;34m\u001b[0m\u001b[0m\n\u001b[0m\u001b[1;32m      2\u001b[0m \u001b[0morig_test\u001b[0m \u001b[0;34m=\u001b[0m \u001b[0mx_test\u001b[0m\u001b[0;34m\u001b[0m\u001b[0;34m\u001b[0m\u001b[0m\n\u001b[1;32m      3\u001b[0m \u001b[0;32mif\u001b[0m \u001b[0mK\u001b[0m\u001b[0;34m.\u001b[0m\u001b[0mimage_data_format\u001b[0m \u001b[0;34m==\u001b[0m \u001b[0;34m\"channels first\"\u001b[0m\u001b[0;34m:\u001b[0m\u001b[0;34m\u001b[0m\u001b[0;34m\u001b[0m\u001b[0m\n\u001b[1;32m      4\u001b[0m   \u001b[0mx_train\u001b[0m \u001b[0;34m=\u001b[0m \u001b[0mx_train\u001b[0m\u001b[0;34m.\u001b[0m\u001b[0mreshape\u001b[0m\u001b[0;34m(\u001b[0m\u001b[0mx_train\u001b[0m\u001b[0;34m.\u001b[0m\u001b[0mshape\u001b[0m\u001b[0;34m[\u001b[0m\u001b[0;36m0\u001b[0m\u001b[0;34m]\u001b[0m\u001b[0;34m,\u001b[0m\u001b[0;36m3\u001b[0m\u001b[0;34m,\u001b[0m\u001b[0mimg_rows\u001b[0m\u001b[0;34m,\u001b[0m\u001b[0mimg_cols\u001b[0m\u001b[0;34m)\u001b[0m\u001b[0;34m\u001b[0m\u001b[0;34m\u001b[0m\u001b[0m\n\u001b[1;32m      5\u001b[0m   \u001b[0mx_test\u001b[0m \u001b[0;34m=\u001b[0m \u001b[0mx_test\u001b[0m\u001b[0;34m.\u001b[0m\u001b[0mreshape\u001b[0m\u001b[0;34m(\u001b[0m\u001b[0mx_test\u001b[0m\u001b[0;34m.\u001b[0m\u001b[0mshape\u001b[0m\u001b[0;34m[\u001b[0m\u001b[0;36m0\u001b[0m\u001b[0;34m]\u001b[0m\u001b[0;34m,\u001b[0m\u001b[0;36m3\u001b[0m\u001b[0;34m,\u001b[0m\u001b[0mimg_rows\u001b[0m\u001b[0;34m,\u001b[0m\u001b[0mimg_cols\u001b[0m\u001b[0;34m)\u001b[0m\u001b[0;34m\u001b[0m\u001b[0;34m\u001b[0m\u001b[0m\n",
            "\u001b[0;31mNameError\u001b[0m: name 'mnist' is not defined"
          ]
        }
      ]
    },
    {
      "cell_type": "code",
      "metadata": {
        "id": "PSFqzz5mMQhz",
        "colab_type": "code",
        "colab": {}
      },
      "source": [
        ""
      ],
      "execution_count": 0,
      "outputs": []
    },
    {
      "cell_type": "code",
      "metadata": {
        "id": "CX-O6xMxMZV1",
        "colab_type": "code",
        "colab": {}
      },
      "source": [
        "from google.colab import drive\n",
        "drive.mount('/content/drive')"
      ],
      "execution_count": 0,
      "outputs": []
    },
    {
      "cell_type": "code",
      "metadata": {
        "id": "UURMpCy_eOKJ",
        "colab_type": "code",
        "outputId": "2b0b371f-ff04-4392-f982-7f344bbfac8b",
        "colab": {
          "base_uri": "https://localhost:8080/",
          "height": 34
        }
      },
      "source": [
        "x_train.shape[0]"
      ],
      "execution_count": 0,
      "outputs": [
        {
          "output_type": "execute_result",
          "data": {
            "text/plain": [
              "60000"
            ]
          },
          "metadata": {
            "tags": []
          },
          "execution_count": 16
        }
      ]
    },
    {
      "cell_type": "code",
      "metadata": {
        "id": "-0iWFDNEJAe8",
        "colab_type": "code",
        "outputId": "9ff413c2-16e3-4d3d-8aab-c6011f81ccfc",
        "colab": {
          "base_uri": "https://localhost:8080/",
          "height": 280
        }
      },
      "source": [
        "ind = random.randrange(10000)\n",
        "plt.imshow(orig_test[ind],cmap = \"gray\")\n",
        "plt.title(\"label displayed %d\" %y_test[ind])\n",
        "plt.show()"
      ],
      "execution_count": 0,
      "outputs": [
        {
          "output_type": "display_data",
          "data": {
            "image/png": "[encoded data removed]",
            "text/plain": [
              "<Figure size 432x288 with 1 Axes>"
            ]
          },
          "metadata": {
            "tags": [],
            "needs_background": "light"
          }
        }
      ]
    },
    {
      "cell_type": "code",
      "metadata": {
        "id": "wZ07L6-SJl6h",
        "colab_type": "code",
        "outputId": "ecab0473-e3ca-4ae4-e778-8e71dc23d52e",
        "colab": {
          "base_uri": "https://localhost:8080/",
          "height": 448
        }
      },
      "source": [
        "model = Sequential()\n",
        "model.add(Conv2D(32,kernel_size=(3,3),activation=\"relu\",input_shape = input_shape))\n",
        "model.add(Conv2D(64,(3,3),activation=\"relu\"))\n",
        "model.add(MaxPooling2D(pool_size = (2,2)))\n",
        "model.add(Dropout(dropout/2))\n",
        "model.add(Flatten())\n",
        "model.add(Dense(128,activation=\"relu\"))\n",
        "model.add(Dropout(dropout))\n",
        "model.add(Dense(num_class,activation=\"softmax\"))\n",
        "model.summary()"
      ],
      "execution_count": 0,
      "outputs": [
        {
          "output_type": "stream",
          "text": [
            "Model: \"sequential_1\"\n",
            "_________________________________________________________________\n",
            "Layer (type)                 Output Shape              Param #   \n",
            "=================================================================\n",
            "conv2d_1 (Conv2D)            (None, 26, 26, 32)        320       \n",
            "_________________________________________________________________\n",
            "conv2d_2 (Conv2D)            (None, 24, 24, 64)        18496     \n",
            "_________________________________________________________________\n",
            "max_pooling2d_1 (MaxPooling2 (None, 12, 12, 64)        0         \n",
            "_________________________________________________________________\n",
            "dropout_1 (Dropout)          (None, 12, 12, 64)        0         \n",
            "_________________________________________________________________\n",
            "flatten_1 (Flatten)          (None, 9216)              0         \n",
            "_________________________________________________________________\n",
            "dense_1 (Dense)              (None, 128)               1179776   \n",
            "_________________________________________________________________\n",
            "dropout_2 (Dropout)          (None, 128)               0         \n",
            "_________________________________________________________________\n",
            "dense_2 (Dense)              (None, 10)                1290      \n",
            "=================================================================\n",
            "Total params: 1,199,882\n",
            "Trainable params: 1,199,882\n",
            "Non-trainable params: 0\n",
            "_________________________________________________________________\n"
          ],
          "name": "stdout"
        }
      ]
    },
    {
      "cell_type": "code",
      "metadata": {
        "id": "YCtH0zqGLrmN",
        "colab_type": "code",
        "outputId": "10d83152-3083-4d7a-c043-590d1b3478c5",
        "colab": {
          "base_uri": "https://localhost:8080/",
          "height": 214
        }
      },
      "source": [
        "model.compile(loss=\"sparse_categorical_crossentropy\",optimizer=\"adam\",metrics=[\"acc\"])\n",
        "hist = model.fit(x_train,y_train,verbose=1,epochs=epochs,batch_size=batch_size,validation_data=(x_test,y_test))"
      ],
      "execution_count": 0,
      "outputs": [
        {
          "output_type": "stream",
          "text": [
            "Train on 60000 samples, validate on 10000 samples\n",
            "Epoch 1/5\n",
            "60000/60000 [==============================] - 9s 158us/step - loss: 0.2459 - acc: 0.9253 - val_loss: 0.0560 - val_acc: 0.9822\n",
            "Epoch 2/5\n",
            "60000/60000 [==============================] - 3s 55us/step - loss: 0.0898 - acc: 0.9736 - val_loss: 0.0415 - val_acc: 0.9868\n",
            "Epoch 3/5\n",
            "60000/60000 [==============================] - 3s 55us/step - loss: 0.0675 - acc: 0.9797 - val_loss: 0.0328 - val_acc: 0.9888\n",
            "Epoch 4/5\n",
            "60000/60000 [==============================] - 3s 53us/step - loss: 0.0528 - acc: 0.9835 - val_loss: 0.0320 - val_acc: 0.9893\n",
            "Epoch 5/5\n",
            "60000/60000 [==============================] - 3s 53us/step - loss: 0.0479 - acc: 0.9854 - val_loss: 0.0326 - val_acc: 0.9886\n"
          ],
          "name": "stdout"
        }
      ]
    },
    {
      "cell_type": "code",
      "metadata": {
        "id": "02JqobVCLrd7",
        "colab_type": "code",
        "outputId": "50e5e46a-c056-451f-a860-f3bae5fa0df9",
        "colab": {
          "base_uri": "https://localhost:8080/",
          "height": 52
        }
      },
      "source": [
        "score = model.evaluate(x_test,y_test,verbose = 0)\n",
        "print(\"test loss\",score[0])\n",
        "print(\"test accuracy\",score[1])"
      ],
      "execution_count": 0,
      "outputs": [
        {
          "output_type": "stream",
          "text": [
            "test loss 0.032584274092238776\n",
            "test accuracy 0.9886000156402588\n"
          ],
          "name": "stdout"
        }
      ]
    },
    {
      "cell_type": "code",
      "metadata": {
        "id": "Pn_oBBKjNc2a",
        "colab_type": "code",
        "outputId": "ae174039-dae6-47ad-a78d-6f38818a5cc0",
        "colab": {
          "base_uri": "https://localhost:8080/",
          "height": 265
        }
      },
      "source": [
        "plt.plot(hist.history[\"acc\"])\n",
        "plt.plot(hist.history[\"val_acc\"])\n",
        "plt.legend((\"train\",\"test\"),loc = \"upper right\")\n",
        "plt.show()"
      ],
      "execution_count": 0,
      "outputs": [
        {
          "output_type": "display_data",
          "data": {
            "image/png": "[encoded data removed]",
            "text/plain": [
              "<Figure size 432x288 with 1 Axes>"
            ]
          },
          "metadata": {
            "tags": [],
            "needs_background": "light"
          }
        }
      ]
    },
    {
      "cell_type": "code",
      "metadata": {
        "id": "OcNRqm8FRSC_",
        "colab_type": "code",
        "colab": {}
      },
      "source": [
        "predictions = model.predict(x_test)"
      ],
      "execution_count": 0,
      "outputs": []
    },
    {
      "cell_type": "code",
      "metadata": {
        "id": "8pAx8FtETCMB",
        "colab_type": "code",
        "colab": {}
      },
      "source": [
        "most_likely = predictions.argmax(1)"
      ],
      "execution_count": 0,
      "outputs": []
    },
    {
      "cell_type": "code",
      "metadata": {
        "id": "je7OB3nkoNL9",
        "colab_type": "code",
        "outputId": "566bca22-61be-4bda-d471-40b608b6a460",
        "colab": {
          "base_uri": "https://localhost:8080/",
          "height": 34
        }
      },
      "source": [
        "len(predictions)\n"
      ],
      "execution_count": 0,
      "outputs": [
        {
          "output_type": "execute_result",
          "data": {
            "text/plain": [
              "10000"
            ]
          },
          "metadata": {
            "tags": []
          },
          "execution_count": 13
        }
      ]
    },
    {
      "cell_type": "code",
      "metadata": {
        "id": "033Svkk3TQi-",
        "colab_type": "code",
        "outputId": "b0c1c2a0-d28a-45ec-8f00-79079d26664e",
        "colab": {
          "base_uri": "https://localhost:8080/",
          "height": 280
        }
      },
      "source": [
        "index = random.randrange(1000)\n",
        "plt.title('prediction %d : label %d' %(most_likely[index],y_test[index]))\n",
        "plt.imshow(orig_test[index])\n",
        "plt.show()"
      ],
      "execution_count": 0,
      "outputs": [
        {
          "output_type": "display_data",
          "data": {
            "image/png": "[encoded data removed]",
            "text/plain": [
              "<Figure size 432x288 with 1 Axes>"
            ]
          },
          "metadata": {
            "tags": [],
            "needs_background": "light"
          }
        }
      ]
    },
    {
      "cell_type": "code",
      "metadata": {
        "id": "GX33aB5vUCG4",
        "colab_type": "code",
        "outputId": "20b95a2c-ee19-4104-dbeb-5f00cb46a867",
        "colab": {
          "base_uri": "https://localhost:8080/",
          "height": 529
        }
      },
      "source": [
        "for i in range(10000):\n",
        "  index = random.randrange(10000)\n",
        "  if most_likely[index] != y_test[index]:\n",
        "    break\n",
        "\n",
        "plt.imshow(orig_test[index],cmap=\"gray\")\n",
        "plt.title(\"predicted: %d label : %d\" %(most_likely[index],y_test[index]))\n",
        "plt.show()\n",
        "plt.bar(range(10),predictions[index],tick_label= range(10))\n",
        "plt.show()"
      ],
      "execution_count": 0,
      "outputs": [
        {
          "output_type": "display_data",
          "data": {
            "image/png": "[encoded data removed]",
            "text/plain": [
              "<Figure size 432x288 with 1 Axes>"
            ]
          },
          "metadata": {
            "tags": [],
            "needs_background": "light"
          }
        },
        {
          "output_type": "display_data",
          "data": {
            "image/png": "[encoded data removed]",
            "text/plain": [
              "<Figure size 432x288 with 1 Axes>"
            ]
          },
          "metadata": {
            "tags": [],
            "needs_background": "light"
          }
        }
      ]
    }
  ]
}