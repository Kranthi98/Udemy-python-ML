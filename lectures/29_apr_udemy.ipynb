{
  "nbformat": 4,
  "nbformat_minor": 0,
  "metadata": {
    "colab": {
      "name": "29-apr-udemy",
      "provenance": [],
      "collapsed_sections": [],
      "toc_visible": true,
      "authorship_tag": "ABX9TyOHz9CTF/56R9DjQ+jIw+Bh",
      "include_colab_link": true
    },
    "kernelspec": {
      "name": "python3",
      "display_name": "Python 3"
    }
  },
  "cells": [
    {
      "cell_type": "markdown",
      "metadata": {
        "id": "view-in-github",
        "colab_type": "text"
      },
      "source": [
        "<a href=\"https://colab.research.google.com/github/Kranthi98/Udemy-python-ML/blob/master/lectures/29_apr_udemy.ipynb\" target=\"_parent\"><img src=\"https://colab.research.google.com/assets/colab-badge.svg\" alt=\"Open In Colab\"/></a>"
      ]
    },
    {
      "cell_type": "code",
      "metadata": {
        "id": "e-MQVMHQK1KP",
        "colab_type": "code",
        "outputId": "83e1ef2b-eebf-420e-a8c5-075e456ea576",
        "colab": {
          "base_uri": "https://localhost:8080/",
          "height": 52
        }
      },
      "source": [
        "A = \"kranthi\"\n",
        "A\n",
        "print(type(A))\n",
        "len(A)\n",
        "A[1]\n",
        "A[-1]\n",
        "A[2:4]"
      ],
      "execution_count": 0,
      "outputs": [
        {
          "output_type": "stream",
          "text": [
            "<class 'str'>\n"
          ],
          "name": "stdout"
        },
        {
          "output_type": "execute_result",
          "data": {
            "text/plain": [
              "'an'"
            ]
          },
          "metadata": {
            "tags": []
          },
          "execution_count": 11
        }
      ]
    },
    {
      "cell_type": "code",
      "metadata": {
        "id": "GnFNHXJoL_UA",
        "colab_type": "code",
        "outputId": "106dcffe-ef1a-4a1c-c5f9-c876d7a771a3",
        "colab": {
          "base_uri": "https://localhost:8080/",
          "height": 34
        }
      },
      "source": [
        "age = 22\n",
        "\"age of kranthi is %d\" %age"
      ],
      "execution_count": 0,
      "outputs": [
        {
          "output_type": "execute_result",
          "data": {
            "text/plain": [
              "'age of kranthi is 22'"
            ]
          },
          "metadata": {
            "tags": []
          },
          "execution_count": 13
        }
      ]
    },
    {
      "cell_type": "markdown",
      "metadata": {
        "id": "o9P_xnCtMHUn",
        "colab_type": "text"
      },
      "source": [
        "#string formating wtih printf \n",
        "we use printf since it is flexible\n",
        "this is the printf format of sring formatting\n",
        "%d refers to thing that need to be substituted and then we refer it with same %then with variable"
      ]
    },
    {
      "cell_type": "code",
      "metadata": {
        "id": "iTeZVnHrL_YQ",
        "colab_type": "code",
        "outputId": "1af7a42d-9af2-4242-fb38-67b35c3105ff",
        "colab": {
          "base_uri": "https://localhost:8080/",
          "height": 34
        }
      },
      "source": [
        "height = 172\n",
        "\"age of kranthi is %.2f yrs and his height is %.2f cm\" %(age,height)"
      ],
      "execution_count": 0,
      "outputs": [
        {
          "output_type": "execute_result",
          "data": {
            "text/plain": [
              "'age of kranthi is 22.00 yrs and his height is 172.00 cm'"
            ]
          },
          "metadata": {
            "tags": []
          },
          "execution_count": 15
        }
      ]
    },
    {
      "cell_type": "markdown",
      "metadata": {
        "id": "khnBPhj1Nr_r",
        "colab_type": "text"
      },
      "source": [
        "#formatting for multiple values\n",
        "2 refers for 2 digits precision and f refers for floating type\n",
        "() refers tuple"
      ]
    },
    {
      "cell_type": "markdown",
      "metadata": {
        "id": "x4sMcz_ZOcoX",
        "colab_type": "text"
      },
      "source": [
        "#using format for same thing\n"
      ]
    },
    {
      "cell_type": "code",
      "metadata": {
        "id": "YtXhf6SHN-BZ",
        "colab_type": "code",
        "outputId": "879e4ac5-7b63-4d97-f0e9-e0ea6fce1f1c",
        "colab": {
          "base_uri": "https://localhost:8080/",
          "height": 34
        }
      },
      "source": [
        "\"age of kranthi {x:.2f}yrs and height is {y:.2f}\".format(x = age,y = height)"
      ],
      "execution_count": 0,
      "outputs": [
        {
          "output_type": "execute_result",
          "data": {
            "text/plain": [
              "'age of kranthi 22.00 and height is 172.00'"
            ]
          },
          "metadata": {
            "tags": []
          },
          "execution_count": 19
        }
      ]
    },
    {
      "cell_type": "code",
      "metadata": {
        "id": "cjpliQErPBuM",
        "colab_type": "code",
        "outputId": "d1f306a2-ad19-4ff9-e390-9d28d0bf6efc",
        "colab": {
          "base_uri": "https://localhost:8080/",
          "height": 34
        }
      },
      "source": [
        "f'age of lranthi is {age:.2f} and his height is {height} and half of his age is {0.5* age}'"
      ],
      "execution_count": 0,
      "outputs": [
        {
          "output_type": "execute_result",
          "data": {
            "text/plain": [
              "'age of lranthi is 22.00 and his height is 172 and half of his age is 11.0'"
            ]
          },
          "metadata": {
            "tags": []
          },
          "execution_count": 22
        }
      ]
    },
    {
      "cell_type": "code",
      "metadata": {
        "id": "B8wO6_Y6YPq7",
        "colab_type": "code",
        "colab": {}
      },
      "source": [
        "from google.colab import drive\n",
        "drive.mount('/content/drive')"
      ],
      "execution_count": 0,
      "outputs": []
    },
    {
      "cell_type": "code",
      "metadata": {
        "id": "-HbpxOnNTDl9",
        "colab_type": "code",
        "colab": {}
      },
      "source": [
        ""
      ],
      "execution_count": 0,
      "outputs": []
    }
  ]
}