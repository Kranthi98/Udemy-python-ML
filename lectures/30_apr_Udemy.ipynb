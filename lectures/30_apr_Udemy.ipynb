{
  "nbformat": 4,
  "nbformat_minor": 0,
  "metadata": {
    "colab": {
      "name": "30-apr-Udemy",
      "provenance": [],
      "collapsed_sections": [],
      "authorship_tag": "ABX9TyO/Tjm9EdF4vQ4iATtNvm26",
      "include_colab_link": true
    },
    "kernelspec": {
      "name": "python3",
      "display_name": "Python 3"
    }
  },
  "cells": [
    {
      "cell_type": "markdown",
      "metadata": {
        "id": "view-in-github",
        "colab_type": "text"
      },
      "source": [
        "<a href=\"https://colab.research.google.com/github/Kranthi98/Udemy-python-ML/blob/master/lectures/30_apr_Udemy.ipynb\" target=\"_parent\"><img src=\"https://colab.research.google.com/assets/colab-badge.svg\" alt=\"Open In Colab\"/></a>"
      ]
    },
    {
      "cell_type": "markdown",
      "metadata": {
        "id": "h-YSjjs3QGSv",
        "colab_type": "text"
      },
      "source": [
        "#Types and conversions "
      ]
    },
    {
      "cell_type": "code",
      "metadata": {
        "id": "xO3r5Qc0QQe9",
        "colab_type": "code",
        "colab": {}
      },
      "source": [
        "pi = 3.14615651"
      ],
      "execution_count": 0,
      "outputs": []
    },
    {
      "cell_type": "code",
      "metadata": {
        "id": "o2eV5KwvQUHY",
        "colab_type": "code",
        "outputId": "1067928d-7a19-4fda-c17c-281c83709ebc",
        "colab": {
          "base_uri": "https://localhost:8080/",
          "height": 34
        }
      },
      "source": [
        "type(pi)"
      ],
      "execution_count": 0,
      "outputs": [
        {
          "output_type": "execute_result",
          "data": {
            "text/plain": [
              "float"
            ]
          },
          "metadata": {
            "tags": []
          },
          "execution_count": 2
        }
      ]
    },
    {
      "cell_type": "code",
      "metadata": {
        "id": "qpY4KynDQbpU",
        "colab_type": "code",
        "outputId": "65e04be6-1bd1-45ba-c56b-eed05948fd09",
        "colab": {
          "base_uri": "https://localhost:8080/",
          "height": 34
        }
      },
      "source": [
        "int(3.999999)"
      ],
      "execution_count": 0,
      "outputs": [
        {
          "output_type": "execute_result",
          "data": {
            "text/plain": [
              "3"
            ]
          },
          "metadata": {
            "tags": []
          },
          "execution_count": 9
        }
      ]
    },
    {
      "cell_type": "code",
      "metadata": {
        "id": "yOQVSkTZQuJe",
        "colab_type": "code",
        "outputId": "0d6fa06f-e495-49c5-f824-558a9b2eb06e",
        "colab": {
          "base_uri": "https://localhost:8080/",
          "height": 34
        }
      },
      "source": [
        "float(4)"
      ],
      "execution_count": 0,
      "outputs": [
        {
          "output_type": "execute_result",
          "data": {
            "text/plain": [
              "4.0"
            ]
          },
          "metadata": {
            "tags": []
          },
          "execution_count": 10
        }
      ]
    },
    {
      "cell_type": "code",
      "metadata": {
        "id": "OkujjBpNQxOV",
        "colab_type": "code",
        "outputId": "9e66c198-777a-4628-a534-52d6355f55fa",
        "colab": {
          "base_uri": "https://localhost:8080/",
          "height": 34
        }
      },
      "source": [
        "complex(5)"
      ],
      "execution_count": 0,
      "outputs": [
        {
          "output_type": "execute_result",
          "data": {
            "text/plain": [
              "(5+0j)"
            ]
          },
          "metadata": {
            "tags": []
          },
          "execution_count": 11
        }
      ]
    },
    {
      "cell_type": "code",
      "metadata": {
        "id": "7T06_FPEQ8Av",
        "colab_type": "code",
        "colab": {}
      },
      "source": [
        "a = complex(5,2)"
      ],
      "execution_count": 0,
      "outputs": []
    },
    {
      "cell_type": "markdown",
      "metadata": {
        "id": "FF_oOUJDRCyd",
        "colab_type": "text"
      },
      "source": [
        "#####accessing the real and imaginary part of complex number"
      ]
    },
    {
      "cell_type": "code",
      "metadata": {
        "id": "56YX2sEdRP2O",
        "colab_type": "code",
        "outputId": "109ed3a4-9006-472e-f42c-57f9dbc4532b",
        "colab": {
          "base_uri": "https://localhost:8080/",
          "height": 34
        }
      },
      "source": [
        "a.real"
      ],
      "execution_count": 0,
      "outputs": [
        {
          "output_type": "execute_result",
          "data": {
            "text/plain": [
              "5.0"
            ]
          },
          "metadata": {
            "tags": []
          },
          "execution_count": 14
        }
      ]
    },
    {
      "cell_type": "code",
      "metadata": {
        "id": "zDb4x284RSND",
        "colab_type": "code",
        "outputId": "4c2e9a99-a653-4a04-81a3-9407a1dc7f8a",
        "colab": {
          "base_uri": "https://localhost:8080/",
          "height": 34
        }
      },
      "source": [
        "a.imag"
      ],
      "execution_count": 0,
      "outputs": [
        {
          "output_type": "execute_result",
          "data": {
            "text/plain": [
              "2.0"
            ]
          },
          "metadata": {
            "tags": []
          },
          "execution_count": 15
        }
      ]
    },
    {
      "cell_type": "markdown",
      "metadata": {
        "id": "dRP-BEObRXAI",
        "colab_type": "text"
      },
      "source": [
        "#####string to number"
      ]
    },
    {
      "cell_type": "code",
      "metadata": {
        "id": "_HmCbc3bRdiT",
        "colab_type": "code",
        "outputId": "8946fa64-8fd7-467a-ade9-dcbbf0d30d2b",
        "colab": {
          "base_uri": "https://localhost:8080/",
          "height": 34
        }
      },
      "source": [
        "float('52.4')"
      ],
      "execution_count": 0,
      "outputs": [
        {
          "output_type": "execute_result",
          "data": {
            "text/plain": [
              "52.4"
            ]
          },
          "metadata": {
            "tags": []
          },
          "execution_count": 16
        }
      ]
    },
    {
      "cell_type": "markdown",
      "metadata": {
        "id": "-tsUcrjwSGtH",
        "colab_type": "text"
      },
      "source": [
        "#flow control\n",
        "###flow control statements should end with \":\"\n",
        "###general statements ending is termed as end no need of semi-colon\n",
        "####for loop"
      ]
    },
    {
      "cell_type": "code",
      "metadata": {
        "id": "Qc-o-xb-RowD",
        "colab_type": "code",
        "outputId": "b0e927b7-6684-4fda-8468-6d9b1270724c",
        "colab": {
          "base_uri": "https://localhost:8080/",
          "height": 104
        }
      },
      "source": [
        "for i in range(5):\n",
        "  print(\"%d squared : %d\" %(i,i*i))"
      ],
      "execution_count": 0,
      "outputs": [
        {
          "output_type": "stream",
          "text": [
            "0 squared : 0\n",
            "1 squared : 1\n",
            "2 squared : 4\n",
            "3 squared : 9\n",
            "4 squared : 16\n"
          ],
          "name": "stdout"
        }
      ]
    },
    {
      "cell_type": "markdown",
      "metadata": {
        "id": "tcjS-MtuSJEZ",
        "colab_type": "text"
      },
      "source": [
        "###while loop"
      ]
    },
    {
      "cell_type": "code",
      "metadata": {
        "id": "lWTx1-jLSy6t",
        "colab_type": "code",
        "outputId": "1a88219b-3481-480c-f53a-14ddb5d6888b",
        "colab": {
          "base_uri": "https://localhost:8080/"
        }
      },
      "source": [
        "i = 1\n",
        "while(i<5):\n",
        "  print(\"%d squared is: %d\"%(i,i*i))\n",
        "  i = i+1"
      ],
      "execution_count": 0,
      "outputs": [
        {
          "output_type": "stream",
          "text": [
            "1 squared is: 1\n",
            "2 squared is: 4\n",
            "3 squared is: 9\n",
            "4 squared is: 16\n"
          ],
          "name": "stdout"
        }
      ]
    },
    {
      "cell_type": "markdown",
      "metadata": {
        "id": "-ik4JHHWTUSR",
        "colab_type": "text"
      },
      "source": [
        "####if else statement"
      ]
    },
    {
      "cell_type": "code",
      "metadata": {
        "id": "ysWL2hsMTYpH",
        "colab_type": "code",
        "outputId": "acb45696-0724-4e54-c7b6-9d81fd29a696",
        "colab": {
          "base_uri": "https://localhost:8080/",
          "height": 173
        }
      },
      "source": [
        "for i in range(1,10):\n",
        "  if i % 2 == 0:\n",
        "    print(f\"{i} is an even number\")\n",
        "  else:\n",
        "    print(f\"{i} is an odd number\")"
      ],
      "execution_count": 0,
      "outputs": [
        {
          "output_type": "stream",
          "text": [
            "1 is an odd number\n",
            "2 is an even number\n",
            "3 is an odd number\n",
            "4 is an even number\n",
            "5 is an odd number\n",
            "6 is an even number\n",
            "7 is an odd number\n",
            "8 is an even number\n",
            "9 is an odd number\n"
          ],
          "name": "stdout"
        }
      ]
    },
    {
      "cell_type": "markdown",
      "metadata": {
        "id": "mQDBQfn3T5Kg",
        "colab_type": "text"
      },
      "source": [
        "#lists\n",
        "#####lists are data structures which can contain any datatype elements "
      ]
    },
    {
      "cell_type": "code",
      "metadata": {
        "id": "R1Q17hCSURUs",
        "colab_type": "code",
        "outputId": "95c7cdfc-b334-44dc-fe89-7e4323c1fe4e",
        "colab": {
          "base_uri": "https://localhost:8080/",
          "height": 34
        }
      },
      "source": [
        "a = [1,2,3,\"kranthi\"]\n",
        "len(a)"
      ],
      "execution_count": 0,
      "outputs": [
        {
          "output_type": "execute_result",
          "data": {
            "text/plain": [
              "4"
            ]
          },
          "metadata": {
            "tags": []
          },
          "execution_count": 26
        }
      ]
    },
    {
      "cell_type": "markdown",
      "metadata": {
        "id": "09yGtc8mVP9j",
        "colab_type": "text"
      },
      "source": [
        "#####append function is used to add to element to the list"
      ]
    },
    {
      "cell_type": "code",
      "metadata": {
        "id": "Z3HkDwkUVbYq",
        "colab_type": "code",
        "outputId": "c7ca3a78-fa63-42db-a47a-7f2961cf2e60",
        "colab": {
          "base_uri": "https://localhost:8080/",
          "height": 34
        }
      },
      "source": [
        "a.append(\"kumar\")\n",
        "a\n"
      ],
      "execution_count": 0,
      "outputs": [
        {
          "output_type": "execute_result",
          "data": {
            "text/plain": [
              "[1, 2, 3, 'kranthi', 'kumar']"
            ]
          },
          "metadata": {
            "tags": []
          },
          "execution_count": 28
        }
      ]
    },
    {
      "cell_type": "markdown",
      "metadata": {
        "id": "yNMGZfGYh2ac",
        "colab_type": "text"
      },
      "source": [
        "######adding of lists"
      ]
    },
    {
      "cell_type": "code",
      "metadata": {
        "id": "KR2D5_axho5-",
        "colab_type": "code",
        "outputId": "552f635b-08fc-44b6-b6b8-2340001ae1f4",
        "colab": {
          "base_uri": "https://localhost:8080/",
          "height": 34
        }
      },
      "source": [
        "a = [ 1,2,30]\n",
        "b = [5,6,-5]\n",
        "c = a+b\n",
        "c.reverse()\n",
        "c[2]"
      ],
      "execution_count": 0,
      "outputs": [
        {
          "output_type": "execute_result",
          "data": {
            "text/plain": [
              "5"
            ]
          },
          "metadata": {
            "tags": []
          },
          "execution_count": 36
        }
      ]
    },
    {
      "cell_type": "code",
      "metadata": {
        "id": "5ftbHBqyh9c4",
        "colab_type": "code",
        "outputId": "dab85685-9ddc-4b82-bb36-fc94b8c17ae7",
        "colab": {
          "base_uri": "https://localhost:8080/",
          "height": 34
        }
      },
      "source": [
        "c.sort()\n",
        "c\n",
        "c[-1]"
      ],
      "execution_count": 0,
      "outputs": [
        {
          "output_type": "execute_result",
          "data": {
            "text/plain": [
              "30"
            ]
          },
          "metadata": {
            "tags": []
          },
          "execution_count": 38
        }
      ]
    },
    {
      "cell_type": "code",
      "metadata": {
        "id": "y-Mcz63mic7c",
        "colab_type": "code",
        "outputId": "b978bd97-0fef-42e0-c97d-755b715d88d3",
        "colab": {
          "base_uri": "https://localhost:8080/",
          "height": 34
        }
      },
      "source": [
        "a = [1,2,3]\n",
        "b = [1,2,3]\n",
        "a[1]*b[1]"
      ],
      "execution_count": 0,
      "outputs": [
        {
          "output_type": "execute_result",
          "data": {
            "text/plain": [
              "4"
            ]
          },
          "metadata": {
            "tags": []
          },
          "execution_count": 63
        }
      ]
    },
    {
      "cell_type": "markdown",
      "metadata": {
        "id": "GQKryX-2putv",
        "colab_type": "text"
      },
      "source": [
        "#Assignment 03\n",
        "##Statement :: create two vectors and find the dot product"
      ]
    },
    {
      "cell_type": "code",
      "metadata": {
        "id": "z_1w8Zlzi9Bo",
        "colab_type": "code",
        "outputId": "247770dd-02c0-45d8-c2fd-f035e5296f26",
        "colab": {
          "base_uri": "https://localhost:8080/",
          "height": 34
        }
      },
      "source": [
        "a = [1,2,5]\n",
        "b = [5,8,9,1]\n",
        "c = list()*len(a)\n",
        "for i in range(0,len(a)):\n",
        "  c.append(a[i]*b[i])\n",
        "print(c)"
      ],
      "execution_count": 0,
      "outputs": [
        {
          "output_type": "stream",
          "text": [
            "[5, 16, 45]\n"
          ],
          "name": "stdout"
        }
      ]
    },
    {
      "cell_type": "markdown",
      "metadata": {
        "id": "ay_3Zfmvq1HF",
        "colab_type": "text"
      },
      "source": [
        "##Difference between method and function\n",
        "####dir(element) gives all the methods available \n",
        "#####function is used with the element in the function\n",
        "#####method is genrally appended at the end\n"
      ]
    },
    {
      "cell_type": "markdown",
      "metadata": {
        "id": "TcUZ_WuIryVW",
        "colab_type": "text"
      },
      "source": [
        "#Functions"
      ]
    },
    {
      "cell_type": "code",
      "metadata": {
        "id": "Rfk7VrcOr3qG",
        "colab_type": "code",
        "colab": {}
      },
      "source": [
        "def total(list):\n",
        "  x = 0\n",
        "  for i in list:\n",
        "    x +=i\n",
        "  return x"
      ],
      "execution_count": 0,
      "outputs": []
    },
    {
      "cell_type": "code",
      "metadata": {
        "id": "bj1HGW0sr-4g",
        "colab_type": "code",
        "outputId": "7cc1f664-ee2a-4fb4-937c-4e0ef65c3346",
        "colab": {
          "base_uri": "https://localhost:8080/",
          "height": 34
        }
      },
      "source": [
        "total([5,5,6])"
      ],
      "execution_count": 0,
      "outputs": [
        {
          "output_type": "execute_result",
          "data": {
            "text/plain": [
              "16"
            ]
          },
          "metadata": {
            "tags": []
          },
          "execution_count": 130
        }
      ]
    },
    {
      "cell_type": "markdown",
      "metadata": {
        "id": "GxW990cZuI16",
        "colab_type": "text"
      },
      "source": [
        "######we can return tuple just by replacing the x in above code with tuple"
      ]
    },
    {
      "cell_type": "markdown",
      "metadata": {
        "id": "0oZlevYguXXg",
        "colab_type": "text"
      },
      "source": [
        "#Classes"
      ]
    },
    {
      "cell_type": "code",
      "metadata": {
        "id": "7QR4gjBYuSrs",
        "colab_type": "code",
        "colab": {}
      },
      "source": [
        ""
      ],
      "execution_count": 0,
      "outputs": []
    },
    {
      "cell_type": "markdown",
      "metadata": {
        "id": "H5oDfaB4y9xe",
        "colab_type": "text"
      },
      "source": [
        "#Files"
      ]
    },
    {
      "cell_type": "code",
      "metadata": {
        "id": "l_iN8j79zBYR",
        "colab_type": "code",
        "colab": {}
      },
      "source": [
        "with open('something.txt','w')as f:\n",
        "  f.write('first line\\n')\n",
        "  f.write('not a second line\\n')"
      ],
      "execution_count": 0,
      "outputs": []
    },
    {
      "cell_type": "code",
      "metadata": {
        "id": "GISrIEj9zuIq",
        "colab_type": "code",
        "outputId": "57cb3f18-6636-40d5-c349-a8f641793159",
        "colab": {
          "base_uri": "https://localhost:8080/",
          "height": 34
        }
      },
      "source": [
        "with open('something.txt','r')as f:\n",
        " print(f.readlines())"
      ],
      "execution_count": 0,
      "outputs": [
        {
          "output_type": "stream",
          "text": [
            "['first line\\n', 'not a second line\\n']\n"
          ],
          "name": "stdout"
        }
      ]
    },
    {
      "cell_type": "markdown",
      "metadata": {
        "id": "AlmOP52E0H7x",
        "colab_type": "text"
      },
      "source": [
        "#Modules"
      ]
    },
    {
      "cell_type": "code",
      "metadata": {
        "id": "NMNnf3CJ0MTO",
        "colab_type": "code",
        "outputId": "df230f01-163a-4365-9365-b48c8a35911f",
        "colab": {
          "base_uri": "https://localhost:8080/",
          "height": 290
        }
      },
      "source": [
        "import matplotlib.pyplot as plt\n",
        "import math\n",
        "x = [i for i in range(64)]\n",
        "y = [i**2  for i in x]\n",
        "z = [math.exp(i) for i in x]\n",
        "plt.plot(x, y, label='pow(x,2)', color='blue', linewidth=1.5)\n",
        "plt.plot(x, z, label='pow(e,x)', color='purple', linewidth=1.5)\n",
        "plt.ylabel('y',color = 'white')\n",
        "plt.xlabel('x',color = 'white')\n",
        "plt.legend(loc='upper right')\n",
        "plt.show()\n"
      ],
      "execution_count": 0,
      "outputs": [
        {
          "output_type": "display_data",
          "data": {
            "image/png": "[encoded data removed]",
            "text/plain": [
              "<Figure size 432x288 with 1 Axes>"
            ]
          },
          "metadata": {
            "tags": [],
            "needs_background": "light"
          }
        }
      ]
    },
    {
      "cell_type": "markdown",
      "metadata": {
        "id": "gjccZKPvDJ4M",
        "colab_type": "text"
      },
      "source": [
        "#Assignment 4"
      ]
    },
    {
      "cell_type": "code",
      "metadata": {
        "id": "TvB9w-05B2Ms",
        "colab_type": "code",
        "outputId": "a931b1be-de65-4361-f7ca-a1e3b6a5a71e",
        "colab": {
          "base_uri": "https://localhost:8080/",
          "height": 294
        }
      },
      "source": [
        "x = [i for i in range(1,64)]\n",
        "m = [math.log10(i) for i in x]\n",
        "plt.plot(x, m, label='logx', color='green', linewidth=1.5)\n",
        "plt.ylabel('y',color = 'white')\n",
        "plt.xlabel('x',color = 'white')\n",
        "plt.title('graph of log base 10')\n",
        "plt.show()"
      ],
      "execution_count": 0,
      "outputs": [
        {
          "output_type": "display_data",
          "data": {
            "image/png": "[encoded data removed]",
            "text/plain": [
              "<Figure size 432x288 with 1 Axes>"
            ]
          },
          "metadata": {
            "tags": [],
            "needs_background": "light"
          }
        }
      ]
    },
    {
      "cell_type": "markdown",
      "metadata": {
        "id": "YUzwj7fdDQSg",
        "colab_type": "text"
      },
      "source": [
        "#Section 2 ended..."
      ]
    }
  ]
}